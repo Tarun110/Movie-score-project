{
 "cells": [
  {
   "cell_type": "markdown",
   "id": "6e35d083-1e4d-46e1-bca1-06ea85d00126",
   "metadata": {},
   "source": [
    "The present code provides a certain code that extracts the movies & Reviews from Amazon movies available on rottentomotoes.com . The code scrapes data from 25 pages of the amazon movies reviews and stores them into a csv file named rottentomatoes.csv . The csv file contains colums named Title, Release Date, Audience Score, Critic Score. The scraped data is prior cleaned and only the movies with values in all the colum values are stored in to the csv file. The csv file contains a total of 2786 movies.\r\n",
    "\n"
   ]
  },
  {
   "cell_type": "code",
   "execution_count": 1,
   "id": "a009b7c9",
   "metadata": {},
   "outputs": [
    {
     "name": "stdout",
     "output_type": "stream",
     "text": [
      "Data saved to 'rottentomatoesmovies.csv'\n"
     ]
    }
   ],
   "source": [
    "import requests\n",
    "from bs4 import BeautifulSoup\n",
    "import pandas as pd\n",
    "from selenium import webdriver\n",
    "from selenium.webdriver.chrome.options import Options\n",
    "\n",
    "def scrape_rotten_tomatoes_movies(pages=25):\n",
    "    base_url = 'https://www.rottentomatoes.com/browse/movies_at_home/affiliates:amazon_prime?page='\n",
    "    all_data = []\n",
    "\n",
    "    options = Options()\n",
    "    options.headless = True\n",
    "    driver = webdriver.Chrome(options=options)\n",
    "\n",
    "    for page_num in range(1, pages + 1):\n",
    "        url = base_url + str(page_num)\n",
    "        driver.get(url)\n",
    "        soup = BeautifulSoup(driver.page_source, 'html.parser')\n",
    "        scraped_movies = soup.find_all('div', class_=\"js-tile-link\")\n",
    "\n",
    "        data = []\n",
    "        for movie in scraped_movies:\n",
    "            title = movie.find('span', class_='p--small').text.strip() if movie.find('span', class_='p--small') else 'No Title'\n",
    "            date = movie.find('span', class_=\"smaller\").text.strip() if movie.find('span', class_=\"smaller\") else 'No Date'\n",
    "\n",
    "            score_div = movie.find('score-pairs-deprecated')\n",
    "            audience_score = score_div.get('audiencescore') if score_div else None\n",
    "            critics_score = score_div.get('criticsscore') if score_div else 'No Critics Score'\n",
    "\n",
    "            # Only add to the list if there is an audience score\n",
    "            if audience_score:\n",
    "                data.append({\n",
    "                    'Title': title,\n",
    "                    'Release Date': date,\n",
    "                    'Audience Score': audience_score,\n",
    "                    'Critics Score': critics_score\n",
    "                })\n",
    "\n",
    "        all_data.extend(data)\n",
    "\n",
    "    driver.quit()\n",
    "    df = pd.DataFrame(all_data)\n",
    "    return df\n",
    "\n",
    "# Call the function with the number of pages you want to scrape (25 in this case)\n",
    "movies_df = scrape_rotten_tomatoes_movies(pages=25)\n",
    "# Store the DataFrame in a CSV file\n",
    "movies_df.to_csv('rottentomatoesmovies.csv', index=False)\n",
    "\n",
    "print(\"Data saved to 'rottentomatoesmovies.csv'\")"
   ]
  },
  {
   "cell_type": "code",
   "execution_count": null,
   "id": "70a319a6",
   "metadata": {},
   "outputs": [],
   "source": []
  }
 ],
 "metadata": {
  "kernelspec": {
   "display_name": "Python 3 (ipykernel)",
   "language": "python",
   "name": "python3"
  },
  "language_info": {
   "codemirror_mode": {
    "name": "ipython",
    "version": 3
   },
   "file_extension": ".py",
   "mimetype": "text/x-python",
   "name": "python",
   "nbconvert_exporter": "python",
   "pygments_lexer": "ipython3",
   "version": "3.11.1"
  }
 },
 "nbformat": 4,
 "nbformat_minor": 5
}
