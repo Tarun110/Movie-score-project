{
 "cells": [
  {
   "cell_type": "markdown",
   "id": "c2333648-2240-4647-ad41-d6851ed3c19b",
   "metadata": {},
   "source": [
    "**Explanation**\n",
    "\n",
    "The provided code shows how to create a machine learning model that categorises Rotten Tomatoes audience scores in an easy-to-understand manner. Importing the required libraries for data handling, model training, and evaluation is the first step in the procedure. For a cleaner output, warnings are muted. After using Pandas to load the dataset, a custom function called binarize_score is built to translate the audience scores into binary labels. Specifically, scores below 50% are regarded as negative (0), and scores that are equal to or more than 50% are regarded as positive (1). These binary values are constructed and added to the audience_score_bin column.\n",
    "\n",
    "Two features are chosen for modelling: the critics score and the release date. LabelEncoder is used to encode the Release Date into numerical values because it is a categorical feature. The binarized audience score is the desired variable. A 75%–25% ratio is used to divide the dataset into training and testing subsets.\n",
    "\n",
    "Next, using the training subset, a logistic regression model is trained, and predictions are made using the testing subset. Lastly, the accuracy_score function is used to calculate the accuracy of the model, and the result is reported. An accuracy metric of the logistic regression model's ability to categorise audience scores based on critic scores and release dates is obtained throughout the entire procedure.\n",
    "\n"
   ]
  },
  {
   "cell_type": "code",
   "execution_count": 3,
   "id": "e0c8a9aa",
   "metadata": {},
   "outputs": [
    {
     "name": "stdout",
     "output_type": "stream",
     "text": [
      "Model accuracy on the testing set: 0.93974175035868\n"
     ]
    }
   ],
   "source": [
    "import pandas as pd\n",
    "from sklearn.model_selection import train_test_split\n",
    "from sklearn.linear_model import LogisticRegression\n",
    "from sklearn.metrics import accuracy_score\n",
    "from sklearn.preprocessing import LabelEncoder\n",
    "import warnings\n",
    "\n",
    "# Suppress warnings\n",
    "warnings.filterwarnings(\"ignore\")\n",
    "\n",
    "# Load the CSV file created from the first notebook\n",
    "df = pd.read_csv(\"rottentomatoesmovies.csv\")\n",
    "\n",
    "# Binarize audience score (negative if <50%, positive if >=50%)\n",
    "def binarize_score(score):\n",
    "    if isinstance(score, int):  # Check if the value is already an integer\n",
    "        return 1 if score >= 50 else 0\n",
    "    else:\n",
    "        return 1 if int(score.strip('%')) >= 50 else 0\n",
    "\n",
    "df['audience_score_bin'] = df['Audience Score'].apply(binarize_score)\n",
    "\n",
    "# Select features and target variable\n",
    "features = df[['Release Date', 'Critics Score']]  # Selecting features excluding 'Title'\n",
    "label_encoder = LabelEncoder()  # For encoding categorical features\n",
    "features['Release Date'] = label_encoder.fit_transform(features['Release Date'])\n",
    "\n",
    "target = df['audience_score_bin']\n",
    "\n",
    "# Split the data into training (75%) and testing (25%) sets\n",
    "X_train, X_test, y_train, y_test = train_test_split(features, target, test_size=0.25, random_state=42)\n",
    "\n",
    "# Train a simple logistic regression model\n",
    "model = LogisticRegression()\n",
    "model.fit(X_train, y_train)\n",
    "\n",
    "# Predict on the testing set\n",
    "y_pred = model.predict(X_test)\n",
    "\n",
    "# Calculate accuracy\n",
    "accuracy = accuracy_score(y_test, y_pred)\n",
    "\n",
    "print(\"Model accuracy on the testing set:\", accuracy)\n"
   ]
  },
  {
   "cell_type": "markdown",
   "id": "5b5d77ed-af6f-4ce5-a85a-898d7b70c9c1",
   "metadata": {},
   "source": [
    "The model accuracy achieved is 93%"
   ]
  }
 ],
 "metadata": {
  "kernelspec": {
   "display_name": "Python 3 (ipykernel)",
   "language": "python",
   "name": "python3"
  },
  "language_info": {
   "codemirror_mode": {
    "name": "ipython",
    "version": 3
   },
   "file_extension": ".py",
   "mimetype": "text/x-python",
   "name": "python",
   "nbconvert_exporter": "python",
   "pygments_lexer": "ipython3",
   "version": "3.11.1"
  }
 },
 "nbformat": 4,
 "nbformat_minor": 5
}
